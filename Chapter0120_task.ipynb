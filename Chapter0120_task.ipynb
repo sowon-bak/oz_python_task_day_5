{
 "cells": [
  {
   "cell_type": "markdown",
   "metadata": {
    "id": "aLkxKxnFLowa"
   },
   "source": [
    "안녕하세요. 수강생 여러분~! Chapter17 ~ 20 수업은 잘 들으셨나요?\n",
    "\n",
    "Chapter01 ~ 20의 수업 내용을 바탕으로 아래 문제를 풀어주시면 됩니다.\n",
    "\n",
    "저번에 했던 \"붕어빵 자동 판매 시스템\"을 리팩토링 해봅시다 !!!\n",
    "\n",
    "못해도 괜찮아요 ! 같이 해봅시다 !\n",
    "\n",
    "<br>\n",
    "\n",
    "\n",
    "[**답변 입력 방법**]\n",
    "\n",
    "문제 아래에 있는 코드 입력창에 정답코드를 작성하신 후  __▷ 버튼을 클릭해 코드를 실행__ 해보세요<br>"
   ]
  },
  {
   "cell_type": "markdown",
   "metadata": {},
   "source": [
    "### 리팩토링 과제\n",
    "\n",
    "Day4에서 만든 \"붕어빵 자동 판매 시스템\"은 절차적 코드로 구현되어있습니다.\n",
    "<br>\n",
    "\n",
    "Day5에서 배운 함수, 클래스 개념을 적용시켜 객체지향적으로 리팩토링을 진행해주세요\n"
   ]
  },
  {
   "cell_type": "code",
   "execution_count": 2,
   "metadata": {},
   "outputs": [
    {
     "ename": "IndentationError",
     "evalue": "expected an indented block (1469732366.py, line 6)",
     "output_type": "error",
     "traceback": [
      "\u001b[0;36m  Cell \u001b[0;32mIn[2], line 6\u001b[0;36m\u001b[0m\n\u001b[0;31m    def check_stock(self):\u001b[0m\n\u001b[0m    ^\u001b[0m\n\u001b[0;31mIndentationError\u001b[0m\u001b[0;31m:\u001b[0m expected an indented block\n"
     ]
    }
   ],
   "source": [
    "# 리팩토링 과제 힌트\n",
    "# 구조는 아래와 같습니다.\n",
    "class BungeoppangShop:\n",
    "    def __init__(self):\n",
    "\n",
    "    def check_stock(self):\n",
    "\n",
    "    def process_order(self, bread_type, bread_count):\n",
    "\n",
    "    def admin_mode(self):\n",
    "\n",
    "    def calculate_total_sales(self):\n",
    "\n",
    "def main():\n",
    "\n",
    "if __name__ == \"__main__\":\n",
    "    main()\n"
   ]
  },
  {
   "cell_type": "markdown",
   "metadata": {},
   "source": [
    "__BungeoppangShop 클래스__\n",
    "\n",
    "- __init__(): 초기 재고, 가격, 판매량을 설정합니다.\n",
    "- check_stock(): 현재 재고를 출력합니다.\n",
    "- process_order(): 주문을 처리하고 재고를 업데이트합니다.\n",
    "- admin_mode(): 관리자 모드에서 재고를 추가합니다.\n",
    "- calculate_total_sales(): 총 매출을 계산하고 출력합니다."
   ]
  },
  {
   "cell_type": "markdown",
   "metadata": {},
   "source": [
    "__[과제 1: 초기화 메서드 __init__]__\n",
    "\n",
    "목표: __init__ 메서드를 구현하여 붕어빵 가게의 초기 재고, 가격, 판매량을 설정합니다.\n",
    "\n",
    "설명: self.stock, self.prices, self.sales 딕셔너리를 초기화하세요.\n",
    "- stock \n",
    "    - \"팥붕어빵\": 10\n",
    "    - \"슈크림붕어빵\": 8\n",
    "    - \"초코붕어빵\": 5\n",
    "\n",
    "- prices\n",
    "    - \"팥붕어빵\": 1000\n",
    "    - \"슈크림붕어빵\": 1200\n",
    "    - \"초코붕어빵\": 1500\n",
    "\n",
    "- sales\n",
    "    - \"팥붕어빵\": 0,\n",
    "    - \"슈크림붕어빵\": 0,\n",
    "    - \"초코붕어빵\": 0"
   ]
  },
  {
   "cell_type": "code",
   "execution_count": 16,
   "metadata": {},
   "outputs": [],
   "source": [
    "class BungeoppangShop() :\n",
    "\n",
    "    def __init__(self):\n",
    "        self.stock = {'팥붕어빵' : 10 , '슈크림붕어빵' : 8 , '초코붕어빵' : 5}\n",
    "        self.prices = {'팥붕어빵' : 1000 , '슈크림붕어빵' : 1200 , '초코붕어빵' : 1500}\n",
    "        self.sales = {'팥붕어빵' : 0 , '슈크림붕어빵' : 0 , '초코붕어빵' : 0}\n",
    "        "
   ]
  },
  {
   "cell_type": "markdown",
   "metadata": {},
   "source": [
    "__[과제 2: 재고 확인 메서드 check_stock]__\n",
    "\n",
    "목표: check_stock 함수를 구현하여 현재 붕어빵 재고를 출력합니다.\n",
    "\n",
    "설명: self.stock 딕셔너리를 순회하며 각 붕어빵의 종류와 재고를 출력하세요.\n"
   ]
  },
  {
   "cell_type": "code",
   "execution_count": 24,
   "metadata": {},
   "outputs": [
    {
     "name": "stdout",
     "output_type": "stream",
     "text": [
      "팥붕어빵은 10개 남았습니다.\n",
      "슈크림붕어빵은 8개 남았습니다.\n",
      "초코붕어빵은 5개 남았습니다.\n"
     ]
    }
   ],
   "source": [
    "class BungeoppangShop() :\n",
    "\n",
    "    def __init__(self):\n",
    "        self.stock = {'팥붕어빵' : 10 , '슈크림붕어빵' : 8 , '초코붕어빵' : 5}\n",
    "        self.prices = {'팥붕어빵' : 1000 , '슈크림붕어빵' : 1200 , '초코붕어빵' : 1500}\n",
    "        self.sales = {'팥붕어빵' : 0 , '슈크림붕어빵' : 0 , '초코붕어빵' : 0}\n",
    "\n",
    "    def check_stock(self) :\n",
    "        for bread,left in self.stock.items() :\n",
    "            print(f'{bread}은 {left}개 남았습니다.')\n",
    "\n",
    "b = BungeoppangShop()\n",
    "b.check_stock()"
   ]
  },
  {
   "cell_type": "markdown",
   "metadata": {},
   "source": [
    "__[과제 3: 주문 처리 메서드 process_order]__\n",
    "\n",
    "목표: process_order 함수를 구현하여 손님의 주문을 처리하고 재고를 업데이트합니다.\n",
    "\n",
    "설명: bread_type과 bread_count를 매개변수로 받아, 재고를 확인하고 충분한 경우 재고를 감소시키고 판매량을 증가시킵니다. 재고가 부족하거나 잘못된 붕어빵 종류인 경우 적절한 메시지를 출력하세요."
   ]
  },
  {
   "cell_type": "code",
   "execution_count": 51,
   "metadata": {},
   "outputs": [
    {
     "name": "stdout",
     "output_type": "stream",
     "text": [
      "슈크림붕어빵 5개 구매가 완료되었습니다.\n",
      "팥붕어빵 5개 구매가 완료되었습니다.\n",
      "슈크림붕어빵의 재고가 부족하여 구매에 실패하였습니다\n",
      "초코붕어빵 4개 구매가 완료되었습니다.\n",
      "공갈붕어빵는 팔지 않는 메뉴입니다\n"
     ]
    }
   ],
   "source": [
    "class BungeoppangShop() :\n",
    "\n",
    "    def __init__(self):\n",
    "        self.stock = {'팥붕어빵' : 10 , '슈크림붕어빵' : 8 , '초코붕어빵' : 5}\n",
    "        self.prices = {'팥붕어빵' : 1000 , '슈크림붕어빵' : 1200 , '초코붕어빵' : 1500}\n",
    "        self.sales = {'팥붕어빵' : 0 , '슈크림붕어빵' : 0 , '초코붕어빵' : 0}\n",
    "\n",
    "    def check_stock(self) :\n",
    "        for bread,left in self.stock.items() :\n",
    "            print(f'{bread}은 {left}개 남았습니다.')\n",
    "\n",
    "    def process_order(self,bread_type,bread_count) :\n",
    "        if type(bread_type) == str and type(bread_count) == int :\n",
    "            if bread_type in self.stock :\n",
    "                if self.stock[bread_type] >= bread_count :\n",
    "                    self.stock[bread_type] -= bread_count\n",
    "                    self.sales[bread_type] += bread_count\n",
    "                    print(f'{bread_type} {bread_count}개 구매가 완료되었습니다.')\n",
    "                else :\n",
    "                    print(f'{bread_type}의 재고가 부족하여 구매에 실패하였습니다')\n",
    "            else :\n",
    "                print(f'{bread}는 팔지 않는 메뉴입니다')\n",
    "        \n",
    "\n",
    "        if type(bread_type) == list and type(bread_count) == list :\n",
    "            for bread,buying in zip(bread_type,bread_count) :\n",
    "                if bread in self.stock :\n",
    "                    if self.stock[bread] >= buying :\n",
    "                        self.stock[bread] -= buying\n",
    "                        self.sales[bread] += buying                  \n",
    "                        print(f'{bread} {buying}개 구매가 완료되었습니다.')\n",
    "                    else :\n",
    "                        print(f'{bread}의 재고가 부족하여 구매에 실패하였습니다')\n",
    "                else :\n",
    "                    print(f'{bread}는 팔지 않는 메뉴입니다')\n",
    "\n",
    "lst_type = ['팥붕어빵','슈크림붕어빵','초코붕어빵','공갈붕어빵']\n",
    "lst_count = [ 5 , 5 , 4 , 4]\n",
    "\n",
    "b = BungeoppangShop()\n",
    "b.process_order('슈크림붕어빵', 5)\n",
    "\n",
    "b.process_order(lst_type,lst_count)\n"
   ]
  },
  {
   "cell_type": "markdown",
   "metadata": {},
   "source": [
    "__[과제 4: 관리자 모드 메서드 admin_mode]__\n",
    "\n",
    "목표: admin_mode 메서드를 구현하여 관리자 모드에서 재고를 추가할 수 있도록 합니다.\n",
    "\n",
    "설명: bread_type과 additional_stock을 입력받아 재고를 추가합니다. 잘못된 입력 값이 들어온 경우 적절한 메시지를 출력하세요."
   ]
  },
  {
   "cell_type": "code",
   "execution_count": 54,
   "metadata": {},
   "outputs": [
    {
     "name": "stdout",
     "output_type": "stream",
     "text": [
      "팥붕어빵는 5개 추가하여 15개 남아있습니다\n",
      "슈크림붕어빵는 4개 추가하여 12개 남아있습니다\n",
      "초코붕어빵는 3개 추가하여 8개 남아있습니다\n",
      "공갈붕어빵은 잘못된 제품명 입니다\n"
     ]
    }
   ],
   "source": [
    "class BungeoppangShop() :\n",
    "\n",
    "    def __init__(self) :\n",
    "        self.stock = {'팥붕어빵' : 10 , '슈크림붕어빵' : 8 , '초코붕어빵' : 5}\n",
    "        self.prices = {'팥붕어빵' : 1000 , '슈크림붕어빵' : 1200 , '초코붕어빵' : 1500}\n",
    "        self.sales = {'팥붕어빵' : 0 , '슈크림붕어빵' : 0 , '초코붕어빵' : 0}\n",
    "\n",
    "    def check_stock(self) :\n",
    "        for bread,left in self.stock.items() :\n",
    "            print(f'{bread}은 {left}개 남았습니다.')\n",
    "\n",
    "    def process_order(self,bread_type,bread_count) :\n",
    "        if type(bread_type) == str and type(bread_count) == int :\n",
    "            if bread_type in self.stock :\n",
    "                if self.stock[bread_type] >= bread_count :\n",
    "                    self.stock[bread_type] -= bread_count\n",
    "                    self.sales[bread_type] += bread_count\n",
    "                    print(f'{bread_type} {bread_count}개 구매가 완료되었습니다.')\n",
    "                else :\n",
    "                    print(f'{bread_type}의 재고가 부족하여 구매에 실패하였습니다')\n",
    "            else :\n",
    "                print(f'{bread}는 팔지 않는 메뉴입니다')\n",
    "        \n",
    "\n",
    "        if type(bread_type) == list and type(bread_count) == list :\n",
    "            for bread,buying in zip(bread_type,bread_count) :\n",
    "                if bread in self.stock :\n",
    "                    if self.stock[bread] >= buying :\n",
    "                        self.stock[bread] -= buying\n",
    "                        self.sales[bread] += buying                  \n",
    "                        print(f'{bread} {buying}개 구매가 완료되었습니다.')\n",
    "                    else :\n",
    "                        print(f'{bread}의 재고가 부족하여 구매에 실패하였습니다')\n",
    "                else :\n",
    "                    print(f'{bread}는 팔지 않는 메뉴입니다')\n",
    "\n",
    "    def admin_mode(self,bread_type,additional_stock) :\n",
    "        if type(bread_type) == str and type(additional_stock) == int :\n",
    "            if bread_type in self.stock : \n",
    "                self.stock[bread_type] += additional_stock\n",
    "                print(f'{bread_type}는 {additional_stock}개 추가하여 {self.stock[bread_type]}개 남아있습니다')\n",
    "            else :\n",
    "                print(f'{bread_type}은 잘못된 제품명 입니다')\n",
    "\n",
    "        if type(bread_type) == list and type(additional_stock) == list :\n",
    "            for bread, addi in zip(bread_type,additional_stock) :\n",
    "                if bread in self.stock :\n",
    "                    self.stock[bread] += addi\n",
    "                    print(f'{bread}는 {addi}개 추가하여 {self.stock[bread]}개 남아있습니다')\n",
    "                else :\n",
    "                    print(f'{bread}은 잘못된 제품명 입니다')\n",
    "\n",
    "b = BungeoppangShop()\n",
    "b.admin_mode('팥붕어빵', 5)\n",
    "\n",
    "type_lst = ['슈크림붕어빵' , '초코붕어빵' , '공갈붕어빵']\n",
    "addi_lst = [ 4 , 3 , 2]\n",
    "\n",
    "b.admin_mode(type_lst,addi_lst)\n",
    "\n"
   ]
  },
  {
   "cell_type": "markdown",
   "metadata": {},
   "source": [
    "\n",
    "__[과제 5: 매출 계산 메서드 calculate_total_sales]__\n",
    "\n",
    "목표: calculate_total_sales 메서드를 구현하여 총 매출을 계산하고 출력합니다.\n",
    "\n",
    "설명: self.sales와 self.prices를 사용하여 총 매출을 계산하고 출력하세요."
   ]
  },
  {
   "cell_type": "code",
   "execution_count": 62,
   "metadata": {},
   "outputs": [
    {
     "name": "stdout",
     "output_type": "stream",
     "text": [
      "슈크림붕어빵 5개 구매가 완료되었습니다.\n",
      "팥붕어빵 5개 구매가 완료되었습니다.\n",
      "초코붕어빵 4개 구매가 완료되었습니다.\n",
      "총 매출은 6000원 입니다.\n"
     ]
    }
   ],
   "source": [
    "class BungeoppangShop() :\n",
    "\n",
    "    def __init__(self) :\n",
    "        self.stock = {'팥붕어빵' : 10 , '슈크림붕어빵' : 8 , '초코붕어빵' : 5}\n",
    "        self.prices = {'팥붕어빵' : 1000 , '슈크림붕어빵' : 1200 , '초코붕어빵' : 1500}\n",
    "        self.sales = {'팥붕어빵' : 0 , '슈크림붕어빵' : 0 , '초코붕어빵' : 0}\n",
    "\n",
    "    def check_stock(self) :\n",
    "        for bread,left in self.stock.items() :\n",
    "            print(f'{bread}은 {left}개 남았습니다.')\n",
    "\n",
    "    def process_order(self,bread_type,bread_count) :\n",
    "        if type(bread_type) == str and type(bread_count) == int :\n",
    "            if bread_type in self.stock :\n",
    "                if self.stock[bread_type] >= bread_count :\n",
    "                    self.stock[bread_type] -= bread_count\n",
    "                    self.sales[bread_type] += bread_count\n",
    "                    print(f'{bread_type} {bread_count}개 구매가 완료되었습니다.')\n",
    "                else :\n",
    "                    print(f'{bread_type}의 재고가 부족하여 구매에 실패하였습니다')\n",
    "            else :\n",
    "                print(f'{bread}는 팔지 않는 메뉴입니다')\n",
    "        \n",
    "\n",
    "        if type(bread_type) == list and type(bread_count) == list :\n",
    "            for bread,buying in zip(bread_type,bread_count) :\n",
    "                if bread in self.stock :\n",
    "                    if self.stock[bread] >= buying :\n",
    "                        self.stock[bread] -= buying\n",
    "                        self.sales[bread] += buying                  \n",
    "                        print(f'{bread} {buying}개 구매가 완료되었습니다.')\n",
    "                    else :\n",
    "                        print(f'{bread}의 재고가 부족하여 구매에 실패하였습니다')\n",
    "                else :\n",
    "                    print(f'{bread}는 팔지 않는 메뉴입니다')\n",
    "\n",
    "    def admin_mode(self,bread_type,additional_stock) :\n",
    "        if type(bread_type) == str and type(additional_stock) == int :\n",
    "            if bread_type in self.stock : \n",
    "                self.stock[bread_type] += additional_stock\n",
    "                print(f'{bread_type}는 {additional_stock}개 추가하여 {self.stock[bread_type]}개 남아있습니다')\n",
    "            else :\n",
    "                print(f'{bread_type}은 잘못된 제품명 입니다')\n",
    "\n",
    "        if type(bread_type) == list and type(additional_stock) == list :\n",
    "            for bread, addi in zip(bread_type,additional_stock) :\n",
    "                if bread in self.stock :\n",
    "                    self.stock[bread] += addi\n",
    "                    print(f'{bread}는 {addi}개 추가하여 {self.stock[bread]}개 남아있습니다')\n",
    "                else :\n",
    "                    print(f'{bread}은 잘못된 제품명 입니다')\n",
    "\n",
    "    def calculate_total_sales(self) :\n",
    "        for A,B in zip(self.prices,self.sales) :\n",
    "            C = 0\n",
    "            C += self.prices[A] * self.sales[B]\n",
    "\n",
    "        print(f'총 매출은 {C}원 입니다.')\n",
    "\n",
    "lst_type = ['팥붕어빵','초코붕어빵']\n",
    "lst_count = [ 5 , 4 ]\n",
    "\n",
    "b = BungeoppangShop()\n",
    "b.process_order('슈크림붕어빵', 5)\n",
    "\n",
    "b.process_order(lst_type,lst_count)\n",
    "\n",
    "b.calculate_total_sales()"
   ]
  },
  {
   "cell_type": "markdown",
   "metadata": {},
   "source": [
    "__[과제 6: 메인 함수 main]__\n",
    "\n",
    "목표: main 함수를 작성하여 프로그램의 주요 로직을 실행합니다.\n",
    "\n",
    "설명:\n",
    "- BungeoppangShop 객체를 생성합니다.\n",
    "- 사용자에게 모드를 선택하도록 요청합니다.\n",
    "- \"주문\" 모드에서는 손님의 주문을 처리하고, \"관리자\" 모드에서는 재고를 추가할 수 있습니다.\n",
    "- 프로그램이 종료될 때 총 매출을 계산하고 데이터를 저장합니다.\n"
   ]
  },
  {
   "cell_type": "code",
   "execution_count": null,
   "metadata": {},
   "outputs": [],
   "source": []
  },
  {
   "cell_type": "markdown",
   "metadata": {},
   "source": [
    "__[과제 7: 최종 BungeoppangShop 클래스]__\n",
    "\n",
    "함수로 리팩토링한 \"붕어빵 자동 판매 시스템\" 작성 후 실행합니다. "
   ]
  },
  {
   "cell_type": "code",
   "execution_count": null,
   "metadata": {},
   "outputs": [],
   "source": []
  }
 ],
 "metadata": {
  "colab": {
   "authorship_tag": "ABX9TyMfxSNOybrh/E7+DQqfYMY3",
   "provenance": []
  },
  "kernelspec": {
   "display_name": "Python 3",
   "name": "python3"
  },
  "language_info": {
   "codemirror_mode": {
    "name": "ipython",
    "version": 3
   },
   "file_extension": ".py",
   "mimetype": "text/x-python",
   "name": "python",
   "nbconvert_exporter": "python",
   "pygments_lexer": "ipython3",
   "version": "3.9.6"
  }
 },
 "nbformat": 4,
 "nbformat_minor": 0
}
